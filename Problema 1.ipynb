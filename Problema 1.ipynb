{
 "cells": [
  {
   "cell_type": "code",
   "execution_count": 1,
   "metadata": {},
   "outputs": [
    {
     "name": "stdout",
     "output_type": "stream",
     "text": [
      "Using matplotlib backend: Qt5Agg\n",
      "Populating the interactive namespace from numpy and matplotlib\n"
     ]
    }
   ],
   "source": [
    "%pylab\n",
    "%matplotlib inline\n",
    "\n",
    "%config InlineBackend.figure_format = 'retina'"
   ]
  },
  {
   "cell_type": "markdown",
   "metadata": {},
   "source": [
    "### Importaciones de librerias"
   ]
  },
  {
   "cell_type": "code",
   "execution_count": 2,
   "metadata": {},
   "outputs": [],
   "source": [
    "import pandas as pd\n",
    "import numpy as np\n",
    "\n",
    "#Normalización de variables\n",
    "from sklearn.preprocessing import StandardScaler\n",
    "from sklearn.feature_selection import VarianceThreshold\n",
    "\n",
    "#Modelo y sus métricas\n",
    "from sklearn.linear_model import LinearRegression\n",
    "from sklearn.metrics import mean_squared_error\n",
    "from sklearn.metrics import mean_absolute_error\n",
    "from sklearn.metrics import median_absolute_error\n",
    "\n",
    "#Validación fuera de muestra\n",
    "from sklearn.model_selection import train_test_split\n",
    "\n"
   ]
  },
  {
   "cell_type": "markdown",
   "metadata": {},
   "source": [
    "### Importación de Datos"
   ]
  },
  {
   "cell_type": "code",
   "execution_count": 3,
   "metadata": {},
   "outputs": [],
   "source": [
    "dataset=pd.read_csv('auto.csv')"
   ]
  },
  {
   "cell_type": "code",
   "execution_count": 4,
   "metadata": {},
   "outputs": [
    {
     "data": {
      "text/html": [
       "<div>\n",
       "<style scoped>\n",
       "    .dataframe tbody tr th:only-of-type {\n",
       "        vertical-align: middle;\n",
       "    }\n",
       "\n",
       "    .dataframe tbody tr th {\n",
       "        vertical-align: top;\n",
       "    }\n",
       "\n",
       "    .dataframe thead th {\n",
       "        text-align: right;\n",
       "    }\n",
       "</style>\n",
       "<table border=\"1\" class=\"dataframe\">\n",
       "  <thead>\n",
       "    <tr style=\"text-align: right;\">\n",
       "      <th></th>\n",
       "      <th>cylinders</th>\n",
       "      <th>displacement</th>\n",
       "      <th>horsepower</th>\n",
       "      <th>weight</th>\n",
       "      <th>acceleration</th>\n",
       "      <th>model_year</th>\n",
       "      <th>origin</th>\n",
       "      <th>mpg</th>\n",
       "    </tr>\n",
       "  </thead>\n",
       "  <tbody>\n",
       "    <tr>\n",
       "      <th>0</th>\n",
       "      <td>8</td>\n",
       "      <td>307.0</td>\n",
       "      <td>130.0</td>\n",
       "      <td>3504.0</td>\n",
       "      <td>12.0</td>\n",
       "      <td>70</td>\n",
       "      <td>1</td>\n",
       "      <td>18.0</td>\n",
       "    </tr>\n",
       "    <tr>\n",
       "      <th>1</th>\n",
       "      <td>8</td>\n",
       "      <td>350.0</td>\n",
       "      <td>165.0</td>\n",
       "      <td>3693.0</td>\n",
       "      <td>11.5</td>\n",
       "      <td>70</td>\n",
       "      <td>1</td>\n",
       "      <td>15.0</td>\n",
       "    </tr>\n",
       "    <tr>\n",
       "      <th>2</th>\n",
       "      <td>8</td>\n",
       "      <td>318.0</td>\n",
       "      <td>150.0</td>\n",
       "      <td>3436.0</td>\n",
       "      <td>11.0</td>\n",
       "      <td>70</td>\n",
       "      <td>1</td>\n",
       "      <td>18.0</td>\n",
       "    </tr>\n",
       "    <tr>\n",
       "      <th>3</th>\n",
       "      <td>8</td>\n",
       "      <td>304.0</td>\n",
       "      <td>150.0</td>\n",
       "      <td>3433.0</td>\n",
       "      <td>12.0</td>\n",
       "      <td>70</td>\n",
       "      <td>1</td>\n",
       "      <td>16.0</td>\n",
       "    </tr>\n",
       "    <tr>\n",
       "      <th>4</th>\n",
       "      <td>8</td>\n",
       "      <td>302.0</td>\n",
       "      <td>140.0</td>\n",
       "      <td>3449.0</td>\n",
       "      <td>10.5</td>\n",
       "      <td>70</td>\n",
       "      <td>1</td>\n",
       "      <td>17.0</td>\n",
       "    </tr>\n",
       "  </tbody>\n",
       "</table>\n",
       "</div>"
      ],
      "text/plain": [
       "   cylinders  displacement  horsepower  weight  acceleration  model_year  \\\n",
       "0          8         307.0       130.0  3504.0          12.0          70   \n",
       "1          8         350.0       165.0  3693.0          11.5          70   \n",
       "2          8         318.0       150.0  3436.0          11.0          70   \n",
       "3          8         304.0       150.0  3433.0          12.0          70   \n",
       "4          8         302.0       140.0  3449.0          10.5          70   \n",
       "\n",
       "   origin   mpg  \n",
       "0       1  18.0  \n",
       "1       1  15.0  \n",
       "2       1  18.0  \n",
       "3       1  16.0  \n",
       "4       1  17.0  "
      ]
     },
     "execution_count": 4,
     "metadata": {},
     "output_type": "execute_result"
    }
   ],
   "source": [
    "dataset.head()"
   ]
  },
  {
   "cell_type": "markdown",
   "metadata": {},
   "source": [
    "### Normalización de las características"
   ]
  },
  {
   "cell_type": "code",
   "execution_count": 27,
   "metadata": {},
   "outputs": [
    {
     "data": {
      "text/plain": [
       "array([[ 1.48394702,  1.07728956,  0.66413273, ..., -1.62531533,\n",
       "        -0.71664105, -0.69863841],\n",
       "       [ 1.48394702,  1.48873169,  1.57459447, ..., -1.62531533,\n",
       "        -0.71664105, -1.08349824],\n",
       "       [ 1.48394702,  1.1825422 ,  1.18439658, ..., -1.62531533,\n",
       "        -0.71664105, -0.69863841],\n",
       "       ...,\n",
       "       [-0.86401356, -0.56847897, -0.53247413, ...,  1.63640964,\n",
       "        -0.71664105,  1.09737414],\n",
       "       [-0.86401356, -0.7120053 , -0.66254009, ...,  1.63640964,\n",
       "        -0.71664105,  0.5842277 ],\n",
       "       [-0.86401356, -0.72157372, -0.58450051, ...,  1.63640964,\n",
       "        -0.71664105,  0.96908753]])"
      ]
     },
     "execution_count": 27,
     "metadata": {},
     "output_type": "execute_result"
    }
   ],
   "source": [
    "scaler= StandardScaler().fit(dataset)\n",
    "scaler.transform(dataset)"
   ]
  },
  {
   "cell_type": "markdown",
   "metadata": {},
   "source": [
    "### Separación de la variable dependiente"
   ]
  },
  {
   "cell_type": "code",
   "execution_count": 28,
   "metadata": {},
   "outputs": [],
   "source": [
    "target='mpg'\n",
    "features=list(dataset.columns)\n",
    "features.remove('mpg')\n",
    "\n",
    "x=dataset[features]\n",
    "y=dataset[target]"
   ]
  },
  {
   "cell_type": "markdown",
   "metadata": {},
   "source": [
    "### Selección univariante de características\n",
    "##### Se selecciona las variables que superan un 0,6 mínimo de varianza"
   ]
  },
  {
   "cell_type": "code",
   "execution_count": 6,
   "metadata": {},
   "outputs": [
    {
     "name": "stdout",
     "output_type": "stream",
     "text": [
      "Variables originales 7\n",
      "Variables finales 7\n",
      "Listado de variables ['cylinders' 'displacement' 'horsepower' 'weight' 'acceleration'\n",
      " 'model_year' 'origin']\n"
     ]
    }
   ],
   "source": [
    "#Selección Univariante de características:\n",
    "var_th= VarianceThreshold(threshold=0.6)\n",
    "x_var=var_th.fit_transform(x)\n",
    "\n",
    "print ('Variables originales', x.shape[1])\n",
    "print ('Variables finales', x_var.shape[1])\n",
    "print ('Listado de variables', np.asarray(list(x))[var_th.get_support()])"
   ]
  },
  {
   "cell_type": "markdown",
   "metadata": {},
   "source": [
    "### Modelo Regresión Lineal"
   ]
  },
  {
   "cell_type": "code",
   "execution_count": 29,
   "metadata": {},
   "outputs": [
    {
     "name": "stdout",
     "output_type": "stream",
     "text": [
      "w_0 0.0\n",
      "w_1 [-0.705487    0.0218741  -0.03955653 -0.00603227 -0.07961633  0.58361019\n",
      "  1.30995361]\n",
      "R^2 0.8150879680355608\n",
      "Error cuadrático medio 11.23576143309235\n",
      "Error absoluto medio 2.5204200079792787\n",
      "Mediana del error absoluto 2.0359030300929035\n"
     ]
    }
   ],
   "source": [
    "#Creación del modelo:\n",
    "model=LinearRegression(fit_intercept = False)\n",
    "model.fit(x,y)\n",
    "\n",
    "#Predicción del modelo:\n",
    "y_pred=model.predict(x)\n",
    "\n",
    "#Obetención de los parámetros de ajuste:\n",
    "print ('w_0', model.intercept_)\n",
    "print ('w_1', model.coef_)\n",
    "\n",
    "print ('R^2', model.score(x,y))\n",
    "print ('Error cuadrático medio', mean_squared_error(y_pred, y))\n",
    "print ('Error absoluto medio', mean_absolute_error(y_pred, y))\n",
    "print ('Mediana del error absoluto', median_absolute_error(y_pred, y))\n"
   ]
  },
  {
   "cell_type": "markdown",
   "metadata": {},
   "source": [
    "### Comprobación de la existencia de sobreajuste a través de la validación fuera de muestra \n",
    "##### Se toman el 75% de los datos para el entrenamiento y el 25% para el test y así comprobar que no memoriza los resultados."
   ]
  },
  {
   "cell_type": "code",
   "execution_count": 32,
   "metadata": {},
   "outputs": [
    {
     "name": "stdout",
     "output_type": "stream",
     "text": [
      "R2 de entrenamiento es: 0.8365331534128526\n",
      "R2 de validación es: 0.7737785715795019\n"
     ]
    }
   ],
   "source": [
    "x_train, x_test, y_train, y_test= train_test_split(x,y)\n",
    "#Creación del modelo\n",
    "model=LinearRegression()\n",
    "model.fit(x_train, y_train)\n",
    "\n",
    "predict_train=model.predict(x_train)\n",
    "predict_test=model.predict(x_test)\n",
    "\n",
    "#Comparación de R^2\n",
    "print('R2 de entrenamiento es:', model.score(x_train, y_train))\n",
    "print('R2 de validación es:', model.score(x_test, y_test))"
   ]
  },
  {
   "cell_type": "code",
   "execution_count": null,
   "metadata": {},
   "outputs": [],
   "source": []
  }
 ],
 "metadata": {
  "kernelspec": {
   "display_name": "Python 3",
   "language": "python",
   "name": "python3"
  },
  "language_info": {
   "codemirror_mode": {
    "name": "ipython",
    "version": 3
   },
   "file_extension": ".py",
   "mimetype": "text/x-python",
   "name": "python",
   "nbconvert_exporter": "python",
   "pygments_lexer": "ipython3",
   "version": "3.7.6"
  }
 },
 "nbformat": 4,
 "nbformat_minor": 4
}
