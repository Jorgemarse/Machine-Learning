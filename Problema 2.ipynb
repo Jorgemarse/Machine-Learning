{
 "cells": [
  {
   "cell_type": "code",
   "execution_count": 2,
   "metadata": {},
   "outputs": [
    {
     "name": "stdout",
     "output_type": "stream",
     "text": [
      "Using matplotlib backend: Qt5Agg\n",
      "Populating the interactive namespace from numpy and matplotlib\n"
     ]
    }
   ],
   "source": [
    "%pylab\n",
    "%matplotlib inline\n",
    "\n",
    "%config InlineBackend.figure_format = 'retina'"
   ]
  },
  {
   "cell_type": "markdown",
   "metadata": {},
   "source": [
    "## Importaciones de librerias"
   ]
  },
  {
   "cell_type": "code",
   "execution_count": 3,
   "metadata": {},
   "outputs": [
    {
     "name": "stderr",
     "output_type": "stream",
     "text": [
      "WARNING (theano.configdefaults): g++ not available, if using conda: `conda install m2w64-toolchain`\n",
      "C:\\Users\\Jorge\\anaconda3\\lib\\site-packages\\theano\\configdefaults.py:560: UserWarning: DeprecationWarning: there is no c++ compiler.This is deprecated and with Theano 0.11 a c++ compiler will be mandatory\n",
      "  warnings.warn(\"DeprecationWarning: there is no c++ compiler.\"\n",
      "WARNING (theano.configdefaults): g++ not detected ! Theano will be unable to execute optimized C-implementations (for both CPU and GPU) and will default to Python implementations. Performance will be severely degraded. To remove this warning, set Theano flags cxx to an empty string.\n",
      "WARNING (theano.tensor.blas): Using NumPy C-API based implementation for BLAS functions.\n"
     ]
    }
   ],
   "source": [
    "import numpy as np\n",
    "import theano\n",
    "from theano import tensor as T\n"
   ]
  },
  {
   "cell_type": "markdown",
   "metadata": {},
   "source": [
    "## Creación del conjunto de Datos"
   ]
  },
  {
   "cell_type": "code",
   "execution_count": 4,
   "metadata": {},
   "outputs": [],
   "source": [
    "trX=np.linspace(-1, 1, 101)\n",
    "trY=np.linspace(-1, 1, 101)\n",
    "\n",
    "for i in range(len(trY)):\n",
    "    trY[i]=math.log(1+0.5*abs(trX[i]))+trX[i]/3+np.random.randn()*0.033\n",
    "    \n",
    "X=T.scalar()\n",
    "Y=T.scalar()"
   ]
  },
  {
   "cell_type": "markdown",
   "metadata": {},
   "source": [
    "### Definición del Modelo"
   ]
  },
  {
   "cell_type": "code",
   "execution_count": 7,
   "metadata": {},
   "outputs": [
    {
     "name": "stdout",
     "output_type": "stream",
     "text": [
      "0.507704786659255 0.33318861094657326\n"
     ]
    }
   ],
   "source": [
    "def model(X,w,c):\n",
    "    return log(1+w*abs(X))+c*X\n",
    "w=theano.shared(np.asarray(0.,dtype=theano.config.floatX))\n",
    "c=theano.shared(np.asarray(0.,dtype=theano.config.floatX))\n",
    "y=model(X,w,c)\n",
    "\n",
    "cost=T.mean(T.sqr(y-Y))\n",
    "gradient_w=T.grad(cost=cost, wrt=w)\n",
    "gradient_c=T.grad(cost=cost, wrt=c)\n",
    "updates=[[w,w-gradient_w*0.01],[c,c-gradient_c*0.01]]\n",
    "\n",
    "train=theano.function(inputs=[X,Y],outputs=cost, updates=updates)\n",
    "\n",
    "for i in range(-1,101):\n",
    "    for x,y in zip(trX,trY):\n",
    "        cost_i=train(x,y)\n",
    "W_0=float(w.get_value())\n",
    "W_1=float(c.get_value())\n",
    "print(W_0,W_1)"
   ]
  },
  {
   "cell_type": "code",
   "execution_count": null,
   "metadata": {},
   "outputs": [],
   "source": []
  }
 ],
 "metadata": {
  "kernelspec": {
   "display_name": "Python 3",
   "language": "python",
   "name": "python3"
  },
  "language_info": {
   "codemirror_mode": {
    "name": "ipython",
    "version": 3
   },
   "file_extension": ".py",
   "mimetype": "text/x-python",
   "name": "python",
   "nbconvert_exporter": "python",
   "pygments_lexer": "ipython3",
   "version": "3.7.6"
  }
 },
 "nbformat": 4,
 "nbformat_minor": 4
}
